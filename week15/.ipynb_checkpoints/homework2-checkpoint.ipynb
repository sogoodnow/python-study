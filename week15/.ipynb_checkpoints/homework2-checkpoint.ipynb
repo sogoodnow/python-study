{
 "cells": [
  {
   "cell_type": "code",
   "execution_count": 1,
   "metadata": {},
   "outputs": [],
   "source": [
    "import pandas as pd\n",
    "import numpy as np\n",
    "import matplotlib.pyplot as plt\n",
    "plt.rc('font',**{'family':'SimHei'})"
   ]
  },
  {
   "cell_type": "code",
   "execution_count": 2,
   "metadata": {},
   "outputs": [],
   "source": [
    "df = pd.read_csv('books.csv')"
   ]
  },
  {
   "cell_type": "code",
   "execution_count": 3,
   "metadata": {},
   "outputs": [
    {
     "data": {
      "text/html": [
       "<div>\n",
       "<style scoped>\n",
       "    .dataframe tbody tr th:only-of-type {\n",
       "        vertical-align: middle;\n",
       "    }\n",
       "\n",
       "    .dataframe tbody tr th {\n",
       "        vertical-align: top;\n",
       "    }\n",
       "\n",
       "    .dataframe thead th {\n",
       "        text-align: right;\n",
       "    }\n",
       "</style>\n",
       "<table border=\"1\" class=\"dataframe\">\n",
       "  <thead>\n",
       "    <tr style=\"text-align: right;\">\n",
       "      <th></th>\n",
       "      <th>id</th>\n",
       "      <th>bookname</th>\n",
       "      <th>author</th>\n",
       "      <th>publish</th>\n",
       "      <th>originame</th>\n",
       "      <th>translater</th>\n",
       "      <th>ptime</th>\n",
       "      <th>pages</th>\n",
       "      <th>price</th>\n",
       "      <th>zhuangzheng</th>\n",
       "      <th>books</th>\n",
       "      <th>isbn</th>\n",
       "      <th>starts</th>\n",
       "      <th>commentcnt</th>\n",
       "      <th>weburl</th>\n",
       "      <th>bookintro</th>\n",
       "      <th>authorintro</th>\n",
       "    </tr>\n",
       "  </thead>\n",
       "  <tbody>\n",
       "    <tr>\n",
       "      <th>0</th>\n",
       "      <td>1</td>\n",
       "      <td>巨人的陨落</td>\n",
       "      <td>[英]肯·福莱特</td>\n",
       "      <td>江苏凤凰文艺出版社</td>\n",
       "      <td>Fall of Giants</td>\n",
       "      <td>于大卫</td>\n",
       "      <td>2016-5-1</td>\n",
       "      <td>1168</td>\n",
       "      <td>129.80元</td>\n",
       "      <td>平装</td>\n",
       "      <td>世纪三部曲</td>\n",
       "      <td>9787539989891</td>\n",
       "      <td>8.9</td>\n",
       "      <td>38081</td>\n",
       "      <td>https://book.douban.com/subject/26698660/</td>\n",
       "      <td>在第一次世界大战的硝烟中，每一个迈向死亡的生命都在热烈地生长——威尔士的矿工少年、刚失恋的美...</td>\n",
       "      <td>38081</td>\n",
       "    </tr>\n",
       "    <tr>\n",
       "      <th>1</th>\n",
       "      <td>2</td>\n",
       "      <td>追风筝的人</td>\n",
       "      <td>[美]卡勒德·胡赛尼</td>\n",
       "      <td>上海人民出版社</td>\n",
       "      <td>The Kite Runner</td>\n",
       "      <td>李继宏</td>\n",
       "      <td>2006-5</td>\n",
       "      <td>362</td>\n",
       "      <td>29.00元</td>\n",
       "      <td>平装</td>\n",
       "      <td>卡勒德·胡赛尼作品</td>\n",
       "      <td>9787208061644</td>\n",
       "      <td>8.9</td>\n",
       "      <td>318051</td>\n",
       "      <td>https://book.douban.com/subject/1770782/</td>\n",
       "      <td>12岁的阿富汗富家少爷阿米尔与仆人哈桑情同手足。然而，在一场风筝比赛后，发生了一件悲惨不堪的...</td>\n",
       "      <td>318051</td>\n",
       "    </tr>\n",
       "    <tr>\n",
       "      <th>2</th>\n",
       "      <td>3</td>\n",
       "      <td>我的职业是小说家</td>\n",
       "      <td>[日]村上春树</td>\n",
       "      <td>南海出版公司</td>\n",
       "      <td>職業としての小説家</td>\n",
       "      <td>施小炜</td>\n",
       "      <td>2017-1</td>\n",
       "      <td>247</td>\n",
       "      <td>45.00元</td>\n",
       "      <td>精装</td>\n",
       "      <td>新经典文库·村上春树作品</td>\n",
       "      <td>9787544285377</td>\n",
       "      <td>8.3</td>\n",
       "      <td>9821</td>\n",
       "      <td>https://book.douban.com/subject/26889236/</td>\n",
       "      <td>《我的职业是小说家》是村上春树首部自传性作品，历时六年完成。一个人，写作三十五年，十三部长篇...</td>\n",
       "      <td>9821</td>\n",
       "    </tr>\n",
       "    <tr>\n",
       "      <th>3</th>\n",
       "      <td>4</td>\n",
       "      <td>巨人的陨落</td>\n",
       "      <td>[英]肯·福莱特</td>\n",
       "      <td>江苏凤凰文艺出版社</td>\n",
       "      <td>Fall of Giants</td>\n",
       "      <td>于大卫</td>\n",
       "      <td>2016-5-1</td>\n",
       "      <td>1168</td>\n",
       "      <td>129.80元</td>\n",
       "      <td>平装</td>\n",
       "      <td>世纪三部曲</td>\n",
       "      <td>9787539989891</td>\n",
       "      <td>8.9</td>\n",
       "      <td>38081</td>\n",
       "      <td>https://book.douban.com/subject/26698660/</td>\n",
       "      <td>在第一次世界大战的硝烟中，每一个迈向死亡的生命都在热烈地生长——威尔士的矿工少年、刚失恋的美...</td>\n",
       "      <td>肯·福莱特 Ken Follett (1949 -)，现象级畅销小说大师。1978年出版了处...</td>\n",
       "    </tr>\n",
       "    <tr>\n",
       "      <th>4</th>\n",
       "      <td>5</td>\n",
       "      <td>佛祖都说了些什么?</td>\n",
       "      <td>林欣浩</td>\n",
       "      <td>北京时代华文书局</td>\n",
       "      <td>无</td>\n",
       "      <td>无</td>\n",
       "      <td>2014-7-1</td>\n",
       "      <td>352</td>\n",
       "      <td>42</td>\n",
       "      <td>平装</td>\n",
       "      <td>None</td>\n",
       "      <td>9787807696490</td>\n",
       "      <td>8.7</td>\n",
       "      <td>2019</td>\n",
       "      <td>https://book.douban.com/subject/25928708/</td>\n",
       "      <td>《佛祖都说了些什么》用轻松易懂的写法，介绍了汉传佛教的历史。六道轮回是否存在？罗汉和菩萨谁的...</td>\n",
       "      <td>林欣浩，自由撰稿人。喜欢读书，相信一切外表高深的知识都要遵守简单的逻辑，希望能用最浅白的话讲...</td>\n",
       "    </tr>\n",
       "  </tbody>\n",
       "</table>\n",
       "</div>"
      ],
      "text/plain": [
       "   id   bookname      author    publish        originame translater     ptime  \\\n",
       "0   1      巨人的陨落    [英]肯·福莱特  江苏凤凰文艺出版社   Fall of Giants        于大卫  2016-5-1   \n",
       "1   2      追风筝的人  [美]卡勒德·胡赛尼    上海人民出版社  The Kite Runner        李继宏    2006-5   \n",
       "2   3   我的职业是小说家     [日]村上春树     南海出版公司        職業としての小説家        施小炜    2017-1   \n",
       "3   4      巨人的陨落    [英]肯·福莱特  江苏凤凰文艺出版社   Fall of Giants        于大卫  2016-5-1   \n",
       "4   5  佛祖都说了些什么?         林欣浩   北京时代华文书局                无          无  2014-7-1   \n",
       "\n",
       "  pages    price zhuangzheng         books           isbn  starts commentcnt  \\\n",
       "0  1168  129.80元          平装         世纪三部曲  9787539989891     8.9      38081   \n",
       "1   362   29.00元          平装     卡勒德·胡赛尼作品  9787208061644     8.9     318051   \n",
       "2   247   45.00元          精装  新经典文库·村上春树作品  9787544285377     8.3       9821   \n",
       "3  1168  129.80元          平装         世纪三部曲  9787539989891     8.9      38081   \n",
       "4   352       42          平装          None  9787807696490     8.7       2019   \n",
       "\n",
       "                                      weburl  \\\n",
       "0  https://book.douban.com/subject/26698660/   \n",
       "1   https://book.douban.com/subject/1770782/   \n",
       "2  https://book.douban.com/subject/26889236/   \n",
       "3  https://book.douban.com/subject/26698660/   \n",
       "4  https://book.douban.com/subject/25928708/   \n",
       "\n",
       "                                           bookintro  \\\n",
       "0  在第一次世界大战的硝烟中，每一个迈向死亡的生命都在热烈地生长——威尔士的矿工少年、刚失恋的美...   \n",
       "1  12岁的阿富汗富家少爷阿米尔与仆人哈桑情同手足。然而，在一场风筝比赛后，发生了一件悲惨不堪的...   \n",
       "2  《我的职业是小说家》是村上春树首部自传性作品，历时六年完成。一个人，写作三十五年，十三部长篇...   \n",
       "3  在第一次世界大战的硝烟中，每一个迈向死亡的生命都在热烈地生长——威尔士的矿工少年、刚失恋的美...   \n",
       "4  《佛祖都说了些什么》用轻松易懂的写法，介绍了汉传佛教的历史。六道轮回是否存在？罗汉和菩萨谁的...   \n",
       "\n",
       "                                         authorintro  \n",
       "0                                              38081  \n",
       "1                                             318051  \n",
       "2                                               9821  \n",
       "3  肯·福莱特 Ken Follett (1949 -)，现象级畅销小说大师。1978年出版了处...  \n",
       "4  林欣浩，自由撰稿人。喜欢读书，相信一切外表高深的知识都要遵守简单的逻辑，希望能用最浅白的话讲...  "
      ]
     },
     "execution_count": 3,
     "metadata": {},
     "output_type": "execute_result"
    }
   ],
   "source": [
    "df.head()"
   ]
  },
  {
   "cell_type": "code",
   "execution_count": 4,
   "metadata": {},
   "outputs": [
    {
     "name": "stdout",
     "output_type": "stream",
     "text": [
      "<class 'pandas.core.frame.DataFrame'>\n",
      "RangeIndex: 659 entries, 0 to 658\n",
      "Data columns (total 17 columns):\n",
      "id             659 non-null int64\n",
      "bookname       659 non-null object\n",
      "author         659 non-null object\n",
      "publish        659 non-null object\n",
      "originame      659 non-null object\n",
      "translater     659 non-null object\n",
      "ptime          659 non-null object\n",
      "pages          659 non-null object\n",
      "price          659 non-null object\n",
      "zhuangzheng    659 non-null object\n",
      "books          659 non-null object\n",
      "isbn           659 non-null object\n",
      "starts         646 non-null float64\n",
      "commentcnt     659 non-null object\n",
      "weburl         659 non-null object\n",
      "bookintro      618 non-null object\n",
      "authorintro    447 non-null object\n",
      "dtypes: float64(1), int64(1), object(15)\n",
      "memory usage: 87.6+ KB\n"
     ]
    }
   ],
   "source": [
    "df.info()"
   ]
  },
  {
   "cell_type": "code",
   "execution_count": 5,
   "metadata": {},
   "outputs": [
    {
     "data": {
      "text/plain": [
       "id               int64\n",
       "bookname        object\n",
       "author          object\n",
       "publish         object\n",
       "originame       object\n",
       "translater      object\n",
       "ptime           object\n",
       "pages           object\n",
       "price           object\n",
       "zhuangzheng     object\n",
       "books           object\n",
       "isbn            object\n",
       "starts         float64\n",
       "commentcnt      object\n",
       "weburl          object\n",
       "bookintro       object\n",
       "authorintro     object\n",
       "dtype: object"
      ]
     },
     "execution_count": 5,
     "metadata": {},
     "output_type": "execute_result"
    }
   ],
   "source": [
    "df.dtypes"
   ]
  },
  {
   "cell_type": "markdown",
   "metadata": {},
   "source": [
    "# 一、数据清洗"
   ]
  },
  {
   "cell_type": "markdown",
   "metadata": {},
   "source": [
    "# 清洗对象：年份、评分、价格、出版社、评论数、作者、书名（书籍数量）"
   ]
  },
  {
   "cell_type": "markdown",
   "metadata": {},
   "source": [
    "## 1.年份清洗"
   ]
  },
  {
   "cell_type": "code",
   "execution_count": 6,
   "metadata": {},
   "outputs": [],
   "source": [
    "import re\n",
    "def year(s):\n",
    "    res = re.findall('\\d{4}',str(s))\n",
    "    if res:\n",
    "        return res[0]\n",
    "    else:\n",
    "        return ''\n",
    "        "
   ]
  },
  {
   "cell_type": "code",
   "execution_count": 7,
   "metadata": {},
   "outputs": [
    {
     "data": {
      "text/plain": [
       "id               int64\n",
       "bookname        object\n",
       "author          object\n",
       "publish         object\n",
       "originame       object\n",
       "translater      object\n",
       "ptime           object\n",
       "pages           object\n",
       "price           object\n",
       "zhuangzheng     object\n",
       "books           object\n",
       "isbn            object\n",
       "starts         float64\n",
       "commentcnt      object\n",
       "weburl          object\n",
       "bookintro       object\n",
       "authorintro     object\n",
       "cptime          object\n",
       "dtype: object"
      ]
     },
     "execution_count": 7,
     "metadata": {},
     "output_type": "execute_result"
    }
   ],
   "source": [
    "df['cptime'] = df['ptime'].apply(year) #cptime  c代表清洗后的数据\n",
    "df.dtypes"
   ]
  },
  {
   "cell_type": "markdown",
   "metadata": {},
   "source": [
    "## 2.评分清洗"
   ]
  },
  {
   "cell_type": "code",
   "execution_count": 8,
   "metadata": {},
   "outputs": [],
   "source": [
    "def starts(s):\n",
    "    res = re.findall('[\\d\\.]+',str(s))\n",
    "    if res:\n",
    "        return res[0]\n",
    "    else:\n",
    "        return 5.0 # 没有评分的都算为5.0分"
   ]
  },
  {
   "cell_type": "code",
   "execution_count": 9,
   "metadata": {},
   "outputs": [
    {
     "data": {
      "text/plain": [
       "0      8.9\n",
       "1      8.9\n",
       "2      8.3\n",
       "3      8.9\n",
       "4      8.7\n",
       "5      8.2\n",
       "6      7.6\n",
       "7      8.4\n",
       "8      8.2\n",
       "9      8.7\n",
       "10     8.0\n",
       "11     8.4\n",
       "12     8.5\n",
       "13     8.0\n",
       "14     8.6\n",
       "15     7.6\n",
       "16     8.5\n",
       "17     7.1\n",
       "18     8.8\n",
       "19     8.4\n",
       "20     8.4\n",
       "21     9.0\n",
       "22     8.0\n",
       "23     8.5\n",
       "24     7.0\n",
       "25     8.6\n",
       "26     6.6\n",
       "27     8.7\n",
       "28     8.8\n",
       "29     7.1\n",
       "      ... \n",
       "629    9.8\n",
       "630    7.4\n",
       "631    6.9\n",
       "632    8.5\n",
       "633    8.9\n",
       "634    9.5\n",
       "635    7.2\n",
       "636    9.0\n",
       "637    8.4\n",
       "638    7.5\n",
       "639    5.0\n",
       "640    8.1\n",
       "641    8.4\n",
       "642    9.6\n",
       "643    9.5\n",
       "644    6.5\n",
       "645    6.5\n",
       "646    7.5\n",
       "647    8.6\n",
       "648    8.2\n",
       "649    7.1\n",
       "650    9.6\n",
       "651    7.8\n",
       "652    6.0\n",
       "653    8.4\n",
       "654    8.9\n",
       "655    8.9\n",
       "656    9.1\n",
       "657    7.7\n",
       "658    8.6\n",
       "Name: cstarts, Length: 659, dtype: float64"
      ]
     },
     "execution_count": 9,
     "metadata": {},
     "output_type": "execute_result"
    }
   ],
   "source": [
    "df['cstarts'] = df['starts'].apply(starts).astype(float)\n",
    "\n",
    "df['cstarts']"
   ]
  },
  {
   "cell_type": "markdown",
   "metadata": {},
   "source": [
    "## 3.价格清洗"
   ]
  },
  {
   "cell_type": "code",
   "execution_count": 10,
   "metadata": {},
   "outputs": [],
   "source": [
    "def price(s):\n",
    "    res = re.findall('\\d+[\\.]+\\d+',str(s))\n",
    "    if res:\n",
    "        return res[0]\n",
    "    else:\n",
    "        return 0.0"
   ]
  },
  {
   "cell_type": "code",
   "execution_count": 11,
   "metadata": {},
   "outputs": [],
   "source": [
    "df['cprice'] = df['price'].apply(price).astype(float)"
   ]
  },
  {
   "cell_type": "code",
   "execution_count": 12,
   "metadata": {},
   "outputs": [
    {
     "data": {
      "text/plain": [
       "id               int64\n",
       "bookname        object\n",
       "author          object\n",
       "publish         object\n",
       "originame       object\n",
       "translater      object\n",
       "ptime           object\n",
       "pages           object\n",
       "price           object\n",
       "zhuangzheng     object\n",
       "books           object\n",
       "isbn            object\n",
       "starts         float64\n",
       "commentcnt      object\n",
       "weburl          object\n",
       "bookintro       object\n",
       "authorintro     object\n",
       "cptime          object\n",
       "cstarts        float64\n",
       "cprice         float64\n",
       "dtype: object"
      ]
     },
     "execution_count": 12,
     "metadata": {},
     "output_type": "execute_result"
    }
   ],
   "source": [
    "df.dtypes"
   ]
  },
  {
   "cell_type": "markdown",
   "metadata": {},
   "source": [
    "## 4.出版社清洗"
   ]
  },
  {
   "cell_type": "code",
   "execution_count": 13,
   "metadata": {},
   "outputs": [],
   "source": [
    "df=df.drop(df[df['publish']=='None'].index)"
   ]
  },
  {
   "cell_type": "code",
   "execution_count": 14,
   "metadata": {},
   "outputs": [
    {
     "data": {
      "text/html": [
       "<div>\n",
       "<style scoped>\n",
       "    .dataframe tbody tr th:only-of-type {\n",
       "        vertical-align: middle;\n",
       "    }\n",
       "\n",
       "    .dataframe tbody tr th {\n",
       "        vertical-align: top;\n",
       "    }\n",
       "\n",
       "    .dataframe thead th {\n",
       "        text-align: right;\n",
       "    }\n",
       "</style>\n",
       "<table border=\"1\" class=\"dataframe\">\n",
       "  <thead>\n",
       "    <tr style=\"text-align: right;\">\n",
       "      <th></th>\n",
       "      <th>id</th>\n",
       "      <th>bookname</th>\n",
       "      <th>author</th>\n",
       "      <th>publish</th>\n",
       "      <th>originame</th>\n",
       "      <th>translater</th>\n",
       "      <th>ptime</th>\n",
       "      <th>pages</th>\n",
       "      <th>price</th>\n",
       "      <th>zhuangzheng</th>\n",
       "      <th>books</th>\n",
       "      <th>isbn</th>\n",
       "      <th>starts</th>\n",
       "      <th>commentcnt</th>\n",
       "      <th>weburl</th>\n",
       "      <th>bookintro</th>\n",
       "      <th>authorintro</th>\n",
       "      <th>cptime</th>\n",
       "      <th>cstarts</th>\n",
       "      <th>cprice</th>\n",
       "    </tr>\n",
       "  </thead>\n",
       "  <tbody>\n",
       "  </tbody>\n",
       "</table>\n",
       "</div>"
      ],
      "text/plain": [
       "Empty DataFrame\n",
       "Columns: [id, bookname, author, publish, originame, translater, ptime, pages, price, zhuangzheng, books, isbn, starts, commentcnt, weburl, bookintro, authorintro, cptime, cstarts, cprice]\n",
       "Index: []"
      ]
     },
     "execution_count": 14,
     "metadata": {},
     "output_type": "execute_result"
    }
   ],
   "source": [
    "df[df['publish']=='None']"
   ]
  },
  {
   "cell_type": "code",
   "execution_count": 15,
   "metadata": {},
   "outputs": [
    {
     "data": {
      "text/html": [
       "<div>\n",
       "<style scoped>\n",
       "    .dataframe tbody tr th:only-of-type {\n",
       "        vertical-align: middle;\n",
       "    }\n",
       "\n",
       "    .dataframe tbody tr th {\n",
       "        vertical-align: top;\n",
       "    }\n",
       "\n",
       "    .dataframe thead th {\n",
       "        text-align: right;\n",
       "    }\n",
       "</style>\n",
       "<table border=\"1\" class=\"dataframe\">\n",
       "  <thead>\n",
       "    <tr style=\"text-align: right;\">\n",
       "      <th></th>\n",
       "      <th>id</th>\n",
       "      <th>bookname</th>\n",
       "      <th>author</th>\n",
       "      <th>publish</th>\n",
       "      <th>originame</th>\n",
       "      <th>translater</th>\n",
       "      <th>ptime</th>\n",
       "      <th>pages</th>\n",
       "      <th>price</th>\n",
       "      <th>zhuangzheng</th>\n",
       "      <th>books</th>\n",
       "      <th>isbn</th>\n",
       "      <th>starts</th>\n",
       "      <th>commentcnt</th>\n",
       "      <th>weburl</th>\n",
       "      <th>bookintro</th>\n",
       "      <th>authorintro</th>\n",
       "      <th>cptime</th>\n",
       "      <th>cstarts</th>\n",
       "      <th>cprice</th>\n",
       "    </tr>\n",
       "  </thead>\n",
       "  <tbody>\n",
       "    <tr>\n",
       "      <th>0</th>\n",
       "      <td>1</td>\n",
       "      <td>巨人的陨落</td>\n",
       "      <td>[英]肯·福莱特</td>\n",
       "      <td>江苏凤凰文艺出版社</td>\n",
       "      <td>Fall of Giants</td>\n",
       "      <td>于大卫</td>\n",
       "      <td>2016-5-1</td>\n",
       "      <td>1168</td>\n",
       "      <td>129.80元</td>\n",
       "      <td>平装</td>\n",
       "      <td>世纪三部曲</td>\n",
       "      <td>9787539989891</td>\n",
       "      <td>8.9</td>\n",
       "      <td>38081</td>\n",
       "      <td>https://book.douban.com/subject/26698660/</td>\n",
       "      <td>在第一次世界大战的硝烟中，每一个迈向死亡的生命都在热烈地生长——威尔士的矿工少年、刚失恋的美...</td>\n",
       "      <td>38081</td>\n",
       "      <td>2016</td>\n",
       "      <td>8.9</td>\n",
       "      <td>129.8</td>\n",
       "    </tr>\n",
       "    <tr>\n",
       "      <th>1</th>\n",
       "      <td>2</td>\n",
       "      <td>追风筝的人</td>\n",
       "      <td>[美]卡勒德·胡赛尼</td>\n",
       "      <td>上海人民出版社</td>\n",
       "      <td>The Kite Runner</td>\n",
       "      <td>李继宏</td>\n",
       "      <td>2006-5</td>\n",
       "      <td>362</td>\n",
       "      <td>29.00元</td>\n",
       "      <td>平装</td>\n",
       "      <td>卡勒德·胡赛尼作品</td>\n",
       "      <td>9787208061644</td>\n",
       "      <td>8.9</td>\n",
       "      <td>318051</td>\n",
       "      <td>https://book.douban.com/subject/1770782/</td>\n",
       "      <td>12岁的阿富汗富家少爷阿米尔与仆人哈桑情同手足。然而，在一场风筝比赛后，发生了一件悲惨不堪的...</td>\n",
       "      <td>318051</td>\n",
       "      <td>2006</td>\n",
       "      <td>8.9</td>\n",
       "      <td>29.0</td>\n",
       "    </tr>\n",
       "    <tr>\n",
       "      <th>2</th>\n",
       "      <td>3</td>\n",
       "      <td>我的职业是小说家</td>\n",
       "      <td>[日]村上春树</td>\n",
       "      <td>南海出版公司</td>\n",
       "      <td>職業としての小説家</td>\n",
       "      <td>施小炜</td>\n",
       "      <td>2017-1</td>\n",
       "      <td>247</td>\n",
       "      <td>45.00元</td>\n",
       "      <td>精装</td>\n",
       "      <td>新经典文库·村上春树作品</td>\n",
       "      <td>9787544285377</td>\n",
       "      <td>8.3</td>\n",
       "      <td>9821</td>\n",
       "      <td>https://book.douban.com/subject/26889236/</td>\n",
       "      <td>《我的职业是小说家》是村上春树首部自传性作品，历时六年完成。一个人，写作三十五年，十三部长篇...</td>\n",
       "      <td>9821</td>\n",
       "      <td>2017</td>\n",
       "      <td>8.3</td>\n",
       "      <td>45.0</td>\n",
       "    </tr>\n",
       "    <tr>\n",
       "      <th>3</th>\n",
       "      <td>4</td>\n",
       "      <td>巨人的陨落</td>\n",
       "      <td>[英]肯·福莱特</td>\n",
       "      <td>江苏凤凰文艺出版社</td>\n",
       "      <td>Fall of Giants</td>\n",
       "      <td>于大卫</td>\n",
       "      <td>2016-5-1</td>\n",
       "      <td>1168</td>\n",
       "      <td>129.80元</td>\n",
       "      <td>平装</td>\n",
       "      <td>世纪三部曲</td>\n",
       "      <td>9787539989891</td>\n",
       "      <td>8.9</td>\n",
       "      <td>38081</td>\n",
       "      <td>https://book.douban.com/subject/26698660/</td>\n",
       "      <td>在第一次世界大战的硝烟中，每一个迈向死亡的生命都在热烈地生长——威尔士的矿工少年、刚失恋的美...</td>\n",
       "      <td>肯·福莱特 Ken Follett (1949 -)，现象级畅销小说大师。1978年出版了处...</td>\n",
       "      <td>2016</td>\n",
       "      <td>8.9</td>\n",
       "      <td>129.8</td>\n",
       "    </tr>\n",
       "    <tr>\n",
       "      <th>4</th>\n",
       "      <td>5</td>\n",
       "      <td>佛祖都说了些什么?</td>\n",
       "      <td>林欣浩</td>\n",
       "      <td>北京时代华文书局</td>\n",
       "      <td>无</td>\n",
       "      <td>无</td>\n",
       "      <td>2014-7-1</td>\n",
       "      <td>352</td>\n",
       "      <td>42</td>\n",
       "      <td>平装</td>\n",
       "      <td>None</td>\n",
       "      <td>9787807696490</td>\n",
       "      <td>8.7</td>\n",
       "      <td>2019</td>\n",
       "      <td>https://book.douban.com/subject/25928708/</td>\n",
       "      <td>《佛祖都说了些什么》用轻松易懂的写法，介绍了汉传佛教的历史。六道轮回是否存在？罗汉和菩萨谁的...</td>\n",
       "      <td>林欣浩，自由撰稿人。喜欢读书，相信一切外表高深的知识都要遵守简单的逻辑，希望能用最浅白的话讲...</td>\n",
       "      <td>2014</td>\n",
       "      <td>8.7</td>\n",
       "      <td>0.0</td>\n",
       "    </tr>\n",
       "  </tbody>\n",
       "</table>\n",
       "</div>"
      ],
      "text/plain": [
       "   id   bookname      author    publish        originame translater     ptime  \\\n",
       "0   1      巨人的陨落    [英]肯·福莱特  江苏凤凰文艺出版社   Fall of Giants        于大卫  2016-5-1   \n",
       "1   2      追风筝的人  [美]卡勒德·胡赛尼    上海人民出版社  The Kite Runner        李继宏    2006-5   \n",
       "2   3   我的职业是小说家     [日]村上春树     南海出版公司        職業としての小説家        施小炜    2017-1   \n",
       "3   4      巨人的陨落    [英]肯·福莱特  江苏凤凰文艺出版社   Fall of Giants        于大卫  2016-5-1   \n",
       "4   5  佛祖都说了些什么?         林欣浩   北京时代华文书局                无          无  2014-7-1   \n",
       "\n",
       "  pages    price zhuangzheng         books           isbn  starts commentcnt  \\\n",
       "0  1168  129.80元          平装         世纪三部曲  9787539989891     8.9      38081   \n",
       "1   362   29.00元          平装     卡勒德·胡赛尼作品  9787208061644     8.9     318051   \n",
       "2   247   45.00元          精装  新经典文库·村上春树作品  9787544285377     8.3       9821   \n",
       "3  1168  129.80元          平装         世纪三部曲  9787539989891     8.9      38081   \n",
       "4   352       42          平装          None  9787807696490     8.7       2019   \n",
       "\n",
       "                                      weburl  \\\n",
       "0  https://book.douban.com/subject/26698660/   \n",
       "1   https://book.douban.com/subject/1770782/   \n",
       "2  https://book.douban.com/subject/26889236/   \n",
       "3  https://book.douban.com/subject/26698660/   \n",
       "4  https://book.douban.com/subject/25928708/   \n",
       "\n",
       "                                           bookintro  \\\n",
       "0  在第一次世界大战的硝烟中，每一个迈向死亡的生命都在热烈地生长——威尔士的矿工少年、刚失恋的美...   \n",
       "1  12岁的阿富汗富家少爷阿米尔与仆人哈桑情同手足。然而，在一场风筝比赛后，发生了一件悲惨不堪的...   \n",
       "2  《我的职业是小说家》是村上春树首部自传性作品，历时六年完成。一个人，写作三十五年，十三部长篇...   \n",
       "3  在第一次世界大战的硝烟中，每一个迈向死亡的生命都在热烈地生长——威尔士的矿工少年、刚失恋的美...   \n",
       "4  《佛祖都说了些什么》用轻松易懂的写法，介绍了汉传佛教的历史。六道轮回是否存在？罗汉和菩萨谁的...   \n",
       "\n",
       "                                         authorintro cptime  cstarts  cprice  \n",
       "0                                              38081   2016      8.9   129.8  \n",
       "1                                             318051   2006      8.9    29.0  \n",
       "2                                               9821   2017      8.3    45.0  \n",
       "3  肯·福莱特 Ken Follett (1949 -)，现象级畅销小说大师。1978年出版了处...   2016      8.9   129.8  \n",
       "4  林欣浩，自由撰稿人。喜欢读书，相信一切外表高深的知识都要遵守简单的逻辑，希望能用最浅白的话讲...   2014      8.7     0.0  "
      ]
     },
     "execution_count": 15,
     "metadata": {},
     "output_type": "execute_result"
    }
   ],
   "source": [
    "df.head()"
   ]
  },
  {
   "cell_type": "markdown",
   "metadata": {},
   "source": [
    "## 5.评论数清洗"
   ]
  },
  {
   "cell_type": "code",
   "execution_count": 16,
   "metadata": {},
   "outputs": [],
   "source": [
    "def commentcnt(s):\n",
    "    res = re.findall('\\d+',str(s))\n",
    "    if res:\n",
    "        return res[0]\n",
    "    else:\n",
    "        return 0"
   ]
  },
  {
   "cell_type": "code",
   "execution_count": 17,
   "metadata": {},
   "outputs": [],
   "source": [
    "df['ccommentcnt'] = df['commentcnt'].apply(commentcnt).astype(int)"
   ]
  },
  {
   "cell_type": "code",
   "execution_count": 18,
   "metadata": {},
   "outputs": [
    {
     "data": {
      "text/plain": [
       "id               int64\n",
       "bookname        object\n",
       "author          object\n",
       "publish         object\n",
       "originame       object\n",
       "translater      object\n",
       "ptime           object\n",
       "pages           object\n",
       "price           object\n",
       "zhuangzheng     object\n",
       "books           object\n",
       "isbn            object\n",
       "starts         float64\n",
       "commentcnt      object\n",
       "weburl          object\n",
       "bookintro       object\n",
       "authorintro     object\n",
       "cptime          object\n",
       "cstarts        float64\n",
       "cprice         float64\n",
       "ccommentcnt      int32\n",
       "dtype: object"
      ]
     },
     "execution_count": 18,
     "metadata": {},
     "output_type": "execute_result"
    }
   ],
   "source": [
    "df.dtypes"
   ]
  },
  {
   "cell_type": "markdown",
   "metadata": {},
   "source": [
    "## 6.作者清洗"
   ]
  },
  {
   "cell_type": "code",
   "execution_count": 19,
   "metadata": {},
   "outputs": [],
   "source": [
    "#存入时已经对数据进行过滤，none值已变更为‘无’"
   ]
  },
  {
   "cell_type": "markdown",
   "metadata": {},
   "source": [
    "## 7.书名清洗"
   ]
  },
  {
   "cell_type": "code",
   "execution_count": 20,
   "metadata": {},
   "outputs": [
    {
     "data": {
      "text/plain": [
       "0"
      ]
     },
     "execution_count": 20,
     "metadata": {},
     "output_type": "execute_result"
    }
   ],
   "source": [
    "df['bookname'].isnull().sum()"
   ]
  },
  {
   "cell_type": "code",
   "execution_count": 21,
   "metadata": {},
   "outputs": [
    {
     "data": {
      "text/html": [
       "<div>\n",
       "<style scoped>\n",
       "    .dataframe tbody tr th:only-of-type {\n",
       "        vertical-align: middle;\n",
       "    }\n",
       "\n",
       "    .dataframe tbody tr th {\n",
       "        vertical-align: top;\n",
       "    }\n",
       "\n",
       "    .dataframe thead th {\n",
       "        text-align: right;\n",
       "    }\n",
       "</style>\n",
       "<table border=\"1\" class=\"dataframe\">\n",
       "  <thead>\n",
       "    <tr style=\"text-align: right;\">\n",
       "      <th></th>\n",
       "      <th>id</th>\n",
       "      <th>bookname</th>\n",
       "      <th>author</th>\n",
       "      <th>publish</th>\n",
       "      <th>originame</th>\n",
       "      <th>translater</th>\n",
       "      <th>ptime</th>\n",
       "      <th>pages</th>\n",
       "      <th>price</th>\n",
       "      <th>zhuangzheng</th>\n",
       "      <th>...</th>\n",
       "      <th>isbn</th>\n",
       "      <th>starts</th>\n",
       "      <th>commentcnt</th>\n",
       "      <th>weburl</th>\n",
       "      <th>bookintro</th>\n",
       "      <th>authorintro</th>\n",
       "      <th>cptime</th>\n",
       "      <th>cstarts</th>\n",
       "      <th>cprice</th>\n",
       "      <th>ccommentcnt</th>\n",
       "    </tr>\n",
       "  </thead>\n",
       "  <tbody>\n",
       "  </tbody>\n",
       "</table>\n",
       "<p>0 rows × 21 columns</p>\n",
       "</div>"
      ],
      "text/plain": [
       "Empty DataFrame\n",
       "Columns: [id, bookname, author, publish, originame, translater, ptime, pages, price, zhuangzheng, books, isbn, starts, commentcnt, weburl, bookintro, authorintro, cptime, cstarts, cprice, ccommentcnt]\n",
       "Index: []\n",
       "\n",
       "[0 rows x 21 columns]"
      ]
     },
     "execution_count": 21,
     "metadata": {},
     "output_type": "execute_result"
    }
   ],
   "source": [
    "df[df['bookname'].isnull()]"
   ]
  },
  {
   "cell_type": "code",
   "execution_count": 22,
   "metadata": {},
   "outputs": [
    {
     "data": {
      "text/html": [
       "<div>\n",
       "<style scoped>\n",
       "    .dataframe tbody tr th:only-of-type {\n",
       "        vertical-align: middle;\n",
       "    }\n",
       "\n",
       "    .dataframe tbody tr th {\n",
       "        vertical-align: top;\n",
       "    }\n",
       "\n",
       "    .dataframe thead th {\n",
       "        text-align: right;\n",
       "    }\n",
       "</style>\n",
       "<table border=\"1\" class=\"dataframe\">\n",
       "  <thead>\n",
       "    <tr style=\"text-align: right;\">\n",
       "      <th></th>\n",
       "      <th>id</th>\n",
       "      <th>bookname</th>\n",
       "      <th>author</th>\n",
       "      <th>publish</th>\n",
       "      <th>originame</th>\n",
       "      <th>translater</th>\n",
       "      <th>ptime</th>\n",
       "      <th>pages</th>\n",
       "      <th>price</th>\n",
       "      <th>zhuangzheng</th>\n",
       "      <th>...</th>\n",
       "      <th>isbn</th>\n",
       "      <th>starts</th>\n",
       "      <th>commentcnt</th>\n",
       "      <th>weburl</th>\n",
       "      <th>bookintro</th>\n",
       "      <th>authorintro</th>\n",
       "      <th>cptime</th>\n",
       "      <th>cstarts</th>\n",
       "      <th>cprice</th>\n",
       "      <th>ccommentcnt</th>\n",
       "    </tr>\n",
       "  </thead>\n",
       "  <tbody>\n",
       "  </tbody>\n",
       "</table>\n",
       "<p>0 rows × 21 columns</p>\n",
       "</div>"
      ],
      "text/plain": [
       "Empty DataFrame\n",
       "Columns: [id, bookname, author, publish, originame, translater, ptime, pages, price, zhuangzheng, books, isbn, starts, commentcnt, weburl, bookintro, authorintro, cptime, cstarts, cprice, ccommentcnt]\n",
       "Index: []\n",
       "\n",
       "[0 rows x 21 columns]"
      ]
     },
     "execution_count": 22,
     "metadata": {},
     "output_type": "execute_result"
    }
   ],
   "source": [
    "df[df['bookname']=='None']"
   ]
  },
  {
   "cell_type": "code",
   "execution_count": 23,
   "metadata": {},
   "outputs": [
    {
     "data": {
      "text/html": [
       "<div>\n",
       "<style scoped>\n",
       "    .dataframe tbody tr th:only-of-type {\n",
       "        vertical-align: middle;\n",
       "    }\n",
       "\n",
       "    .dataframe tbody tr th {\n",
       "        vertical-align: top;\n",
       "    }\n",
       "\n",
       "    .dataframe thead th {\n",
       "        text-align: right;\n",
       "    }\n",
       "</style>\n",
       "<table border=\"1\" class=\"dataframe\">\n",
       "  <thead>\n",
       "    <tr style=\"text-align: right;\">\n",
       "      <th></th>\n",
       "      <th>id</th>\n",
       "      <th>bookname</th>\n",
       "      <th>author</th>\n",
       "      <th>publish</th>\n",
       "      <th>originame</th>\n",
       "      <th>translater</th>\n",
       "      <th>ptime</th>\n",
       "      <th>pages</th>\n",
       "      <th>price</th>\n",
       "      <th>zhuangzheng</th>\n",
       "      <th>...</th>\n",
       "      <th>isbn</th>\n",
       "      <th>starts</th>\n",
       "      <th>commentcnt</th>\n",
       "      <th>weburl</th>\n",
       "      <th>bookintro</th>\n",
       "      <th>authorintro</th>\n",
       "      <th>cptime</th>\n",
       "      <th>cstarts</th>\n",
       "      <th>cprice</th>\n",
       "      <th>ccommentcnt</th>\n",
       "    </tr>\n",
       "  </thead>\n",
       "  <tbody>\n",
       "  </tbody>\n",
       "</table>\n",
       "<p>0 rows × 21 columns</p>\n",
       "</div>"
      ],
      "text/plain": [
       "Empty DataFrame\n",
       "Columns: [id, bookname, author, publish, originame, translater, ptime, pages, price, zhuangzheng, books, isbn, starts, commentcnt, weburl, bookintro, authorintro, cptime, cstarts, cprice, ccommentcnt]\n",
       "Index: []\n",
       "\n",
       "[0 rows x 21 columns]"
      ]
     },
     "execution_count": 23,
     "metadata": {},
     "output_type": "execute_result"
    }
   ],
   "source": [
    "df[df['bookname']=='']"
   ]
  },
  {
   "cell_type": "code",
   "execution_count": 24,
   "metadata": {},
   "outputs": [
    {
     "data": {
      "text/html": [
       "<div>\n",
       "<style scoped>\n",
       "    .dataframe tbody tr th:only-of-type {\n",
       "        vertical-align: middle;\n",
       "    }\n",
       "\n",
       "    .dataframe tbody tr th {\n",
       "        vertical-align: top;\n",
       "    }\n",
       "\n",
       "    .dataframe thead th {\n",
       "        text-align: right;\n",
       "    }\n",
       "</style>\n",
       "<table border=\"1\" class=\"dataframe\">\n",
       "  <thead>\n",
       "    <tr style=\"text-align: right;\">\n",
       "      <th></th>\n",
       "      <th>id</th>\n",
       "      <th>bookname</th>\n",
       "      <th>author</th>\n",
       "      <th>publish</th>\n",
       "      <th>originame</th>\n",
       "      <th>translater</th>\n",
       "      <th>ptime</th>\n",
       "      <th>pages</th>\n",
       "      <th>price</th>\n",
       "      <th>zhuangzheng</th>\n",
       "      <th>...</th>\n",
       "      <th>isbn</th>\n",
       "      <th>starts</th>\n",
       "      <th>commentcnt</th>\n",
       "      <th>weburl</th>\n",
       "      <th>bookintro</th>\n",
       "      <th>authorintro</th>\n",
       "      <th>cptime</th>\n",
       "      <th>cstarts</th>\n",
       "      <th>cprice</th>\n",
       "      <th>ccommentcnt</th>\n",
       "    </tr>\n",
       "  </thead>\n",
       "  <tbody>\n",
       "  </tbody>\n",
       "</table>\n",
       "<p>0 rows × 21 columns</p>\n",
       "</div>"
      ],
      "text/plain": [
       "Empty DataFrame\n",
       "Columns: [id, bookname, author, publish, originame, translater, ptime, pages, price, zhuangzheng, books, isbn, starts, commentcnt, weburl, bookintro, authorintro, cptime, cstarts, cprice, ccommentcnt]\n",
       "Index: []\n",
       "\n",
       "[0 rows x 21 columns]"
      ]
     },
     "execution_count": 24,
     "metadata": {},
     "output_type": "execute_result"
    }
   ],
   "source": [
    "df[df['bookname']=='无']"
   ]
  },
  {
   "cell_type": "code",
   "execution_count": 25,
   "metadata": {},
   "outputs": [],
   "source": [
    "#经验证，书名无空数据"
   ]
  },
  {
   "cell_type": "markdown",
   "metadata": {},
   "source": [
    "# 二、数据分析"
   ]
  },
  {
   "cell_type": "markdown",
   "metadata": {},
   "source": [
    "# 1.分析书的数量与年份的关系"
   ]
  },
  {
   "cell_type": "code",
   "execution_count": 26,
   "metadata": {},
   "outputs": [
    {
     "data": {
      "text/plain": [
       "id               int64\n",
       "bookname        object\n",
       "author          object\n",
       "publish         object\n",
       "originame       object\n",
       "translater      object\n",
       "ptime           object\n",
       "pages           object\n",
       "price           object\n",
       "zhuangzheng     object\n",
       "books           object\n",
       "isbn            object\n",
       "starts         float64\n",
       "commentcnt      object\n",
       "weburl          object\n",
       "bookintro       object\n",
       "authorintro     object\n",
       "cptime          object\n",
       "cstarts        float64\n",
       "cprice         float64\n",
       "ccommentcnt      int32\n",
       "dtype: object"
      ]
     },
     "execution_count": 26,
     "metadata": {},
     "output_type": "execute_result"
    }
   ],
   "source": [
    "df.dtypes"
   ]
  },
  {
   "cell_type": "code",
   "execution_count": 27,
   "metadata": {},
   "outputs": [],
   "source": [
    "df2 = df.groupby(['cptime'])['bookname'].count()"
   ]
  },
  {
   "cell_type": "code",
   "execution_count": 28,
   "metadata": {},
   "outputs": [
    {
     "data": {
      "text/plain": [
       "cptime\n",
       "         8\n",
       "1954     1\n",
       "1971     1\n",
       "1972     1\n",
       "1973     3\n",
       "1979     2\n",
       "1981     1\n",
       "1982     1\n",
       "1984     1\n",
       "1985     1\n",
       "1986     2\n",
       "1989     1\n",
       "1991     1\n",
       "1992     3\n",
       "1994     6\n",
       "1995     1\n",
       "1996     2\n",
       "1997     2\n",
       "1998     5\n",
       "1999     6\n",
       "2000    10\n",
       "2001     7\n",
       "2002    17\n",
       "2003    18\n",
       "2004    19\n",
       "2005    40\n",
       "2006    53\n",
       "2007    64\n",
       "2008    47\n",
       "2009    54\n",
       "2010    60\n",
       "2011    45\n",
       "2012    16\n",
       "2013    19\n",
       "2014    28\n",
       "2015    12\n",
       "2016    18\n",
       "2017    68\n",
       "２００９     1\n",
       "Name: bookname, dtype: int64"
      ]
     },
     "execution_count": 28,
     "metadata": {},
     "output_type": "execute_result"
    }
   ],
   "source": [
    "df2"
   ]
  },
  {
   "cell_type": "code",
   "execution_count": 29,
   "metadata": {},
   "outputs": [],
   "source": [
    "df2 = df2[1:-1]  # 去除无效年份"
   ]
  },
  {
   "cell_type": "code",
   "execution_count": 30,
   "metadata": {},
   "outputs": [
    {
     "data": {
      "text/plain": [
       "cptime\n",
       "1954     1\n",
       "1971     1\n",
       "1972     1\n",
       "1973     3\n",
       "1979     2\n",
       "1981     1\n",
       "1982     1\n",
       "1984     1\n",
       "1985     1\n",
       "1986     2\n",
       "1989     1\n",
       "1991     1\n",
       "1992     3\n",
       "1994     6\n",
       "1995     1\n",
       "1996     2\n",
       "1997     2\n",
       "1998     5\n",
       "1999     6\n",
       "2000    10\n",
       "2001     7\n",
       "2002    17\n",
       "2003    18\n",
       "2004    19\n",
       "2005    40\n",
       "2006    53\n",
       "2007    64\n",
       "2008    47\n",
       "2009    54\n",
       "2010    60\n",
       "2011    45\n",
       "2012    16\n",
       "2013    19\n",
       "2014    28\n",
       "2015    12\n",
       "2016    18\n",
       "2017    68\n",
       "Name: bookname, dtype: int64"
      ]
     },
     "execution_count": 30,
     "metadata": {},
     "output_type": "execute_result"
    }
   ],
   "source": [
    "df2"
   ]
  },
  {
   "cell_type": "code",
   "execution_count": 31,
   "metadata": {},
   "outputs": [
    {
     "data": {
      "image/png": "[encoded data removed]",
      "text/plain": [
       "<Figure size 1440x720 with 1 Axes>"
      ]
     },
     "metadata": {},
     "output_type": "display_data"
    }
   ],
   "source": [
    "plt.figure(figsize=(20,10))\n",
    "plt.plot(df2.index,df2.values)\n",
    "plt.xlabel(\"年份\")\n",
    "plt.ylabel(\"数量\")\n",
    "plt.title(\"年份数量分析\")\n",
    "plt.show()"
   ]
  },
  {
   "cell_type": "code",
   "execution_count": 32,
   "metadata": {},
   "outputs": [],
   "source": [
    "# 由于样本数据只有600多条，故运行结果跟课堂讲述的有所差异"
   ]
  },
  {
   "cell_type": "markdown",
   "metadata": {},
   "source": [
    "# 2.分析书籍的评分与年代之间是否有某种关系"
   ]
  },
  {
   "cell_type": "code",
   "execution_count": 33,
   "metadata": {},
   "outputs": [
    {
     "data": {
      "text/plain": [
       "id               int64\n",
       "bookname        object\n",
       "author          object\n",
       "publish         object\n",
       "originame       object\n",
       "translater      object\n",
       "ptime           object\n",
       "pages           object\n",
       "price           object\n",
       "zhuangzheng     object\n",
       "books           object\n",
       "isbn            object\n",
       "starts         float64\n",
       "commentcnt      object\n",
       "weburl          object\n",
       "bookintro       object\n",
       "authorintro     object\n",
       "cptime          object\n",
       "cstarts        float64\n",
       "cprice         float64\n",
       "ccommentcnt      int32\n",
       "dtype: object"
      ]
     },
     "execution_count": 33,
     "metadata": {},
     "output_type": "execute_result"
    }
   ],
   "source": [
    "df.dtypes"
   ]
  },
  {
   "cell_type": "code",
   "execution_count": 34,
   "metadata": {},
   "outputs": [],
   "source": [
    "df3 = df.groupby(['cptime'])['cstarts'].mean()"
   ]
  },
  {
   "cell_type": "code",
   "execution_count": 35,
   "metadata": {},
   "outputs": [
    {
     "data": {
      "text/plain": [
       "cptime\n",
       "        7.962500\n",
       "1954    5.000000\n",
       "1971    8.600000\n",
       "1972    8.600000\n",
       "1973    8.800000\n",
       "1979    8.850000\n",
       "1981    8.300000\n",
       "1982    8.500000\n",
       "1984    8.800000\n",
       "1985    9.000000\n",
       "1986    9.400000\n",
       "1989    8.500000\n",
       "1991    8.700000\n",
       "1992    8.866667\n",
       "1994    8.766667\n",
       "1995    9.000000\n",
       "1996    8.050000\n",
       "1997    8.350000\n",
       "1998    8.880000\n",
       "1999    8.483333\n",
       "2000    7.930000\n",
       "2001    8.671429\n",
       "2002    8.400000\n",
       "2003    8.566667\n",
       "2004    7.942105\n",
       "2005    8.125000\n",
       "2006    8.443396\n",
       "2007    8.303125\n",
       "2008    8.285106\n",
       "2009    8.409259\n",
       "2010    8.315000\n",
       "2011    8.291111\n",
       "2012    8.062500\n",
       "2013    7.947368\n",
       "2014    8.010714\n",
       "2015    7.325000\n",
       "2016    7.616667\n",
       "2017    7.838235\n",
       "２００９    9.100000\n",
       "Name: cstarts, dtype: float64"
      ]
     },
     "execution_count": 35,
     "metadata": {},
     "output_type": "execute_result"
    }
   ],
   "source": [
    "df3"
   ]
  },
  {
   "cell_type": "code",
   "execution_count": 36,
   "metadata": {},
   "outputs": [],
   "source": [
    "df3 = df3[1:-1]"
   ]
  },
  {
   "cell_type": "code",
   "execution_count": 37,
   "metadata": {},
   "outputs": [
    {
     "data": {
      "text/plain": [
       "cptime\n",
       "1954    5.000000\n",
       "1971    8.600000\n",
       "1972    8.600000\n",
       "1973    8.800000\n",
       "1979    8.850000\n",
       "1981    8.300000\n",
       "1982    8.500000\n",
       "1984    8.800000\n",
       "1985    9.000000\n",
       "1986    9.400000\n",
       "1989    8.500000\n",
       "1991    8.700000\n",
       "1992    8.866667\n",
       "1994    8.766667\n",
       "1995    9.000000\n",
       "1996    8.050000\n",
       "1997    8.350000\n",
       "1998    8.880000\n",
       "1999    8.483333\n",
       "2000    7.930000\n",
       "2001    8.671429\n",
       "2002    8.400000\n",
       "2003    8.566667\n",
       "2004    7.942105\n",
       "2005    8.125000\n",
       "2006    8.443396\n",
       "2007    8.303125\n",
       "2008    8.285106\n",
       "2009    8.409259\n",
       "2010    8.315000\n",
       "2011    8.291111\n",
       "2012    8.062500\n",
       "2013    7.947368\n",
       "2014    8.010714\n",
       "2015    7.325000\n",
       "2016    7.616667\n",
       "2017    7.838235\n",
       "Name: cstarts, dtype: float64"
      ]
     },
     "execution_count": 37,
     "metadata": {},
     "output_type": "execute_result"
    }
   ],
   "source": [
    "df3"
   ]
  },
  {
   "cell_type": "code",
   "execution_count": 38,
   "metadata": {},
   "outputs": [
    {
     "data": {
      "image/png": "[encoded data removed]",
      "text/plain": [
       "<Figure size 1440x720 with 1 Axes>"
      ]
     },
     "metadata": {},
     "output_type": "display_data"
    }
   ],
   "source": [
    "plt.figure(figsize=(20,10))\n",
    "plt.plot(df3.index,df3.values,[df3.values.mean() for z in range(len(df3.index))])\n",
    "plt.xlabel(\"年份\")\n",
    "plt.ylabel(\"评分\")\n",
    "plt.title(\"年份评分分析\")\n",
    "plt.show()"
   ]
  },
  {
   "cell_type": "markdown",
   "metadata": {},
   "source": [
    "# 3.书籍的价格⼀般都是在什么范围"
   ]
  },
  {
   "cell_type": "code",
   "execution_count": 39,
   "metadata": {},
   "outputs": [
    {
     "data": {
      "text/plain": [
       "id               int64\n",
       "bookname        object\n",
       "author          object\n",
       "publish         object\n",
       "originame       object\n",
       "translater      object\n",
       "ptime           object\n",
       "pages           object\n",
       "price           object\n",
       "zhuangzheng     object\n",
       "books           object\n",
       "isbn            object\n",
       "starts         float64\n",
       "commentcnt      object\n",
       "weburl          object\n",
       "bookintro       object\n",
       "authorintro     object\n",
       "cptime          object\n",
       "cstarts        float64\n",
       "cprice         float64\n",
       "ccommentcnt      int32\n",
       "dtype: object"
      ]
     },
     "execution_count": 39,
     "metadata": {},
     "output_type": "execute_result"
    }
   ],
   "source": [
    "df.dtypes"
   ]
  },
  {
   "cell_type": "code",
   "execution_count": 40,
   "metadata": {},
   "outputs": [],
   "source": [
    "y = df.groupby(['cprice'])['bookname'].count()"
   ]
  },
  {
   "cell_type": "code",
   "execution_count": 41,
   "metadata": {},
   "outputs": [
    {
     "data": {
      "text/plain": [
       "cprice\n",
       "0.00      65\n",
       "0.22       1\n",
       "0.25       1\n",
       "0.33       1\n",
       "0.36       1\n",
       "0.37       1\n",
       "0.78       1\n",
       "1.30       1\n",
       "1.95       1\n",
       "3.90       2\n",
       "6.00       1\n",
       "6.80       1\n",
       "6.90       1\n",
       "7.00       1\n",
       "8.00       1\n",
       "8.80       2\n",
       "9.00       1\n",
       "9.20       1\n",
       "9.80       1\n",
       "10.00      2\n",
       "10.80      1\n",
       "11.00      2\n",
       "12.00      6\n",
       "13.00      1\n",
       "13.60      1\n",
       "13.80      1\n",
       "14.00      3\n",
       "15.00     10\n",
       "15.80      1\n",
       "16.00      8\n",
       "          ..\n",
       "78.00      3\n",
       "79.00      9\n",
       "79.80      2\n",
       "85.00      1\n",
       "85.95      1\n",
       "86.00      1\n",
       "88.00      2\n",
       "89.00      2\n",
       "94.00      1\n",
       "95.00      1\n",
       "96.00      1\n",
       "98.00      2\n",
       "99.00      3\n",
       "100.00     1\n",
       "113.00     1\n",
       "115.00     1\n",
       "128.00     1\n",
       "129.80     2\n",
       "130.00     1\n",
       "138.00     1\n",
       "160.00     1\n",
       "168.00     1\n",
       "182.00     1\n",
       "182.40     1\n",
       "198.00     1\n",
       "259.00     1\n",
       "260.00     1\n",
       "288.00     1\n",
       "420.00     1\n",
       "585.00     1\n",
       "Name: bookname, Length: 139, dtype: int64"
      ]
     },
     "execution_count": 41,
     "metadata": {},
     "output_type": "execute_result"
    }
   ],
   "source": [
    "y"
   ]
  },
  {
   "cell_type": "code",
   "execution_count": 42,
   "metadata": {},
   "outputs": [],
   "source": [
    "y=y[1:] # 去除价格0的数据"
   ]
  },
  {
   "cell_type": "code",
   "execution_count": 43,
   "metadata": {},
   "outputs": [
    {
     "data": {
      "text/plain": [
       "cprice\n",
       "1.30       1\n",
       "1.95       1\n",
       "3.90       2\n",
       "6.00       1\n",
       "6.80       1\n",
       "6.90       1\n",
       "7.00       1\n",
       "8.00       1\n",
       "8.80       2\n",
       "9.00       1\n",
       "9.20       1\n",
       "9.80       1\n",
       "10.00      2\n",
       "10.80      1\n",
       "11.00      2\n",
       "12.00      6\n",
       "13.00      1\n",
       "13.60      1\n",
       "13.80      1\n",
       "14.00      3\n",
       "15.00     10\n",
       "15.80      1\n",
       "16.00      8\n",
       "16.60      1\n",
       "16.80      4\n",
       "17.00      2\n",
       "18.00     19\n",
       "18.20      1\n",
       "18.80      1\n",
       "19.00      8\n",
       "          ..\n",
       "78.00      3\n",
       "79.00      9\n",
       "79.80      2\n",
       "85.00      1\n",
       "85.95      1\n",
       "86.00      1\n",
       "88.00      2\n",
       "89.00      2\n",
       "94.00      1\n",
       "95.00      1\n",
       "96.00      1\n",
       "98.00      2\n",
       "99.00      3\n",
       "100.00     1\n",
       "113.00     1\n",
       "115.00     1\n",
       "128.00     1\n",
       "129.80     2\n",
       "130.00     1\n",
       "138.00     1\n",
       "160.00     1\n",
       "168.00     1\n",
       "182.00     1\n",
       "182.40     1\n",
       "198.00     1\n",
       "259.00     1\n",
       "260.00     1\n",
       "288.00     1\n",
       "420.00     1\n",
       "585.00     1\n",
       "Name: bookname, Length: 132, dtype: int64"
      ]
     },
     "execution_count": 43,
     "metadata": {},
     "output_type": "execute_result"
    }
   ],
   "source": [
    "y"
   ]
  },
  {
   "cell_type": "code",
   "execution_count": 44,
   "metadata": {},
   "outputs": [],
   "source": [
    "Y=[]\n",
    "for i in range(10):\n",
    "    Y.append(y[(y.index>10*i) & (y.index<=10*i+10)].sum())\n",
    "Y.append(y[(y.index>100)].sum())"
   ]
  },
  {
   "cell_type": "code",
   "execution_count": 45,
   "metadata": {},
   "outputs": [],
   "source": [
    "X=['10','10-20','20-30','30-40','40-50','50-60','60-70','70-80','80-90','90-100','>100']"
   ]
  },
  {
   "cell_type": "code",
   "execution_count": 46,
   "metadata": {},
   "outputs": [
    {
     "data": {
      "image/png": "[encoded data removed]",
      "text/plain": [
       "<Figure size 1440x720 with 1 Axes>"
      ]
     },
     "metadata": {},
     "output_type": "display_data"
    }
   ],
   "source": [
    "plt.figure(figsize=(20,10))\n",
    "plt.bar(X,Y)\n",
    "plt.xlabel(\"价格\")\n",
    "plt.ylabel(\"数量\")\n",
    "plt.title(\"价格数量分析\")\n",
    "plt.show()"
   ]
  },
  {
   "cell_type": "markdown",
   "metadata": {},
   "source": [
    "# 4.出版的书籍最多的前20个出版社"
   ]
  },
  {
   "cell_type": "code",
   "execution_count": 47,
   "metadata": {},
   "outputs": [
    {
     "data": {
      "text/plain": [
       "id               int64\n",
       "bookname        object\n",
       "author          object\n",
       "publish         object\n",
       "originame       object\n",
       "translater      object\n",
       "ptime           object\n",
       "pages           object\n",
       "price           object\n",
       "zhuangzheng     object\n",
       "books           object\n",
       "isbn            object\n",
       "starts         float64\n",
       "commentcnt      object\n",
       "weburl          object\n",
       "bookintro       object\n",
       "authorintro     object\n",
       "cptime          object\n",
       "cstarts        float64\n",
       "cprice         float64\n",
       "ccommentcnt      int32\n",
       "dtype: object"
      ]
     },
     "execution_count": 47,
     "metadata": {},
     "output_type": "execute_result"
    }
   ],
   "source": [
    "df.dtypes"
   ]
  },
  {
   "cell_type": "code",
   "execution_count": 79,
   "metadata": {},
   "outputs": [],
   "source": [
    "df5 = df.groupby(['publish'])['bookname'].count()"
   ]
  },
  {
   "cell_type": "code",
   "execution_count": 87,
   "metadata": {},
   "outputs": [],
   "source": [
    "df5 = df5.sort_values(ascending=False) # 降序排列"
   ]
  },
  {
   "cell_type": "code",
   "execution_count": 89,
   "metadata": {},
   "outputs": [],
   "source": [
    "df5 = df5[:20] # 取前20位"
   ]
  },
  {
   "cell_type": "code",
   "execution_count": 103,
   "metadata": {},
   "outputs": [
    {
     "data": {
      "image/png": "[encoded data removed]",
      "text/plain": [
       "<Figure size 1440x720 with 1 Axes>"
      ]
     },
     "metadata": {},
     "output_type": "display_data"
    }
   ],
   "source": [
    "plt.figure(figsize=(20,10))\n",
    "plt.xticks(rotation=90)\n",
    "plt.bar(df5.index,df5.values,color=['red','blue','yellow','orange','green','purple','brown','pink','olive','cyan'])\n",
    "plt.show()"
   ]
  },
  {
   "cell_type": "markdown",
   "metadata": {},
   "source": [
    "# 5.书籍评分比较高出版社"
   ]
  },
  {
   "cell_type": "code",
   "execution_count": 104,
   "metadata": {},
   "outputs": [
    {
     "data": {
      "text/plain": [
       "id               int64\n",
       "bookname        object\n",
       "author          object\n",
       "publish         object\n",
       "originame       object\n",
       "translater      object\n",
       "ptime           object\n",
       "pages           object\n",
       "price           object\n",
       "zhuangzheng     object\n",
       "books           object\n",
       "isbn            object\n",
       "starts         float64\n",
       "commentcnt      object\n",
       "weburl          object\n",
       "bookintro       object\n",
       "authorintro     object\n",
       "cptime          object\n",
       "cstarts        float64\n",
       "cprice         float64\n",
       "ccommentcnt      int32\n",
       "dtype: object"
      ]
     },
     "execution_count": 104,
     "metadata": {},
     "output_type": "execute_result"
    }
   ],
   "source": [
    "df.dtypes"
   ]
  },
  {
   "cell_type": "code",
   "execution_count": 113,
   "metadata": {},
   "outputs": [],
   "source": [
    "df6 = df.groupby(['publish'])['cstarts'].mean().sort_values(ascending=False)[:21]\n"
   ]
  },
  {
   "cell_type": "code",
   "execution_count": 114,
   "metadata": {},
   "outputs": [
    {
     "data": {
      "text/plain": [
       "publish\n",
       "浙江教育出版社                  9.800000\n",
       "群众出版社                    9.600000\n",
       "北京燕山出版社                  9.600000\n",
       "雄獅圖書                     9.500000\n",
       "四川文艺出版社                  9.500000\n",
       "中州古籍出版社                  9.500000\n",
       "中国科学技术大学出版社              9.400000\n",
       "接力出版社                    9.400000\n",
       "上海古籍出版社                  9.400000\n",
       "McGraw-Hill Education    9.400000\n",
       "Manning Publications     9.300000\n",
       "广州出版社                    9.300000\n",
       "7-09999                  9.300000\n",
       "中医古籍出版社                  9.300000\n",
       "中国妇女出版社                  9.200000\n",
       "上海科学技术文献出版社              9.200000\n",
       "中华书局                     9.136364\n",
       "100PAGES PRESS           9.100000\n",
       "リブレ出版                    9.100000\n",
       "河南人民出版社                  9.050000\n",
       "中国基督教协会                  9.000000\n",
       "Name: cstarts, dtype: float64"
      ]
     },
     "execution_count": 114,
     "metadata": {},
     "output_type": "execute_result"
    }
   ],
   "source": [
    "df6"
   ]
  },
  {
   "cell_type": "code",
   "execution_count": 129,
   "metadata": {},
   "outputs": [],
   "source": [
    "df6 =df6.drop(index='7-09999')"
   ]
  },
  {
   "cell_type": "code",
   "execution_count": 130,
   "metadata": {},
   "outputs": [
    {
     "data": {
      "text/plain": [
       "publish\n",
       "浙江教育出版社                  9.800000\n",
       "群众出版社                    9.600000\n",
       "北京燕山出版社                  9.600000\n",
       "雄獅圖書                     9.500000\n",
       "四川文艺出版社                  9.500000\n",
       "中州古籍出版社                  9.500000\n",
       "中国科学技术大学出版社              9.400000\n",
       "接力出版社                    9.400000\n",
       "上海古籍出版社                  9.400000\n",
       "McGraw-Hill Education    9.400000\n",
       "Manning Publications     9.300000\n",
       "广州出版社                    9.300000\n",
       "中医古籍出版社                  9.300000\n",
       "中国妇女出版社                  9.200000\n",
       "上海科学技术文献出版社              9.200000\n",
       "中华书局                     9.136364\n",
       "100PAGES PRESS           9.100000\n",
       "リブレ出版                    9.100000\n",
       "河南人民出版社                  9.050000\n",
       "中国基督教协会                  9.000000\n",
       "Name: cstarts, dtype: float64"
      ]
     },
     "execution_count": 130,
     "metadata": {},
     "output_type": "execute_result"
    }
   ],
   "source": [
    "df6"
   ]
  },
  {
   "cell_type": "code",
   "execution_count": 145,
   "metadata": {},
   "outputs": [
    {
     "data": {
      "image/png": "[encoded data removed]",
      "text/plain": [
       "<Figure size 1440x720 with 1 Axes>"
      ]
     },
     "metadata": {},
     "output_type": "display_data"
    }
   ],
   "source": [
    "plt.figure(figsize=(20,10))\n",
    "plt.xticks(rotation=60)\n",
    "plt.plot(df6.index,df6.values,color='red')\n",
    "plt.xlabel('出版社')\n",
    "plt.ylabel('评分均值')\n",
    "plt.show()"
   ]
  },
  {
   "cell_type": "markdown",
   "metadata": {},
   "source": [
    "# 6.出书多的作者"
   ]
  },
  {
   "cell_type": "code",
   "execution_count": 146,
   "metadata": {},
   "outputs": [
    {
     "data": {
      "text/plain": [
       "id               int64\n",
       "bookname        object\n",
       "author          object\n",
       "publish         object\n",
       "originame       object\n",
       "translater      object\n",
       "ptime           object\n",
       "pages           object\n",
       "price           object\n",
       "zhuangzheng     object\n",
       "books           object\n",
       "isbn            object\n",
       "starts         float64\n",
       "commentcnt      object\n",
       "weburl          object\n",
       "bookintro       object\n",
       "authorintro     object\n",
       "cptime          object\n",
       "cstarts        float64\n",
       "cprice         float64\n",
       "ccommentcnt      int32\n",
       "dtype: object"
      ]
     },
     "execution_count": 146,
     "metadata": {},
     "output_type": "execute_result"
    }
   ],
   "source": [
    "df.dtypes"
   ]
  },
  {
   "cell_type": "code",
   "execution_count": 164,
   "metadata": {},
   "outputs": [],
   "source": [
    "df7=df.drop(df[df['author']=='无'].index)"
   ]
  },
  {
   "cell_type": "code",
   "execution_count": 165,
   "metadata": {},
   "outputs": [
    {
     "data": {
      "text/plain": [
       "author\n",
       "[加拿大]亦舒           15\n",
       "三毛                14\n",
       "沧月                13\n",
       "幾米                12\n",
       "鲁迅                10\n",
       "古龙                 9\n",
       "余华                 8\n",
       "韩寒                 7\n",
       "落落                 5\n",
       "张悦然                4\n",
       "金庸                 3\n",
       "王小波                3\n",
       "[日]东野圭吾            3\n",
       "[美]肯·威尔伯           3\n",
       "[奥地利]斯蒂芬·茨威格       2\n",
       "刘瑜                 2\n",
       "[哥伦比亚]加西亚·马尔克斯     2\n",
       "刘慈欣                2\n",
       "[日]芦原义信            2\n",
       "[德]博多·舍费尔          2\n",
       "Name: bookname, dtype: int64"
      ]
     },
     "execution_count": 165,
     "metadata": {},
     "output_type": "execute_result"
    }
   ],
   "source": [
    "df7 = df7.groupby(['author'])['bookname'].count().sort_values(ascending=False)[:20]\n",
    "df7"
   ]
  },
  {
   "cell_type": "code",
   "execution_count": 166,
   "metadata": {},
   "outputs": [
    {
     "data": {
      "image/png": "[encoded data removed]",
      "text/plain": [
       "<Figure size 1440x720 with 1 Axes>"
      ]
     },
     "metadata": {},
     "output_type": "display_data"
    }
   ],
   "source": [
    "plt.figure(figsize=(20,10))\n",
    "plt.xticks(rotation=90)\n",
    "plt.bar(df7.index,df7.values,color='g')\n",
    "plt.xlabel('作者')\n",
    "plt.ylabel('出版数量')\n",
    "plt.show()"
   ]
  },
  {
   "cell_type": "markdown",
   "metadata": {},
   "source": [
    "# 7.评份高与评论数量这间是否存在某种关系"
   ]
  },
  {
   "cell_type": "code",
   "execution_count": 210,
   "metadata": {},
   "outputs": [],
   "source": [
    "import seaborn as sns"
   ]
  },
  {
   "cell_type": "code",
   "execution_count": 211,
   "metadata": {},
   "outputs": [],
   "source": [
    "df8 = df[['cstarts','cprice','ccommentcnt']]"
   ]
  },
  {
   "cell_type": "code",
   "execution_count": 212,
   "metadata": {},
   "outputs": [],
   "source": [
    "corr = df8.corr()"
   ]
  },
  {
   "cell_type": "code",
   "execution_count": 213,
   "metadata": {},
   "outputs": [
    {
     "data": {
      "image/png": "[encoded data removed]",
      "text/plain": [
       "<Figure size 432x288 with 2 Axes>"
      ]
     },
     "metadata": {},
     "output_type": "display_data"
    }
   ],
   "source": [
    "sns.heatmap(corr,cmap=sns.color_palette('Blues'))\n",
    "plt.show()"
   ]
  },
  {
   "cell_type": "code",
   "execution_count": 214,
   "metadata": {},
   "outputs": [
    {
     "data": {
      "text/html": [
       "<div>\n",
       "<style scoped>\n",
       "    .dataframe tbody tr th:only-of-type {\n",
       "        vertical-align: middle;\n",
       "    }\n",
       "\n",
       "    .dataframe tbody tr th {\n",
       "        vertical-align: top;\n",
       "    }\n",
       "\n",
       "    .dataframe thead th {\n",
       "        text-align: right;\n",
       "    }\n",
       "</style>\n",
       "<table border=\"1\" class=\"dataframe\">\n",
       "  <thead>\n",
       "    <tr style=\"text-align: right;\">\n",
       "      <th></th>\n",
       "      <th>cstarts</th>\n",
       "      <th>cprice</th>\n",
       "      <th>ccommentcnt</th>\n",
       "    </tr>\n",
       "  </thead>\n",
       "  <tbody>\n",
       "    <tr>\n",
       "      <th>cstarts</th>\n",
       "      <td>1.000000</td>\n",
       "      <td>0.049530</td>\n",
       "      <td>0.089395</td>\n",
       "    </tr>\n",
       "    <tr>\n",
       "      <th>cprice</th>\n",
       "      <td>0.049530</td>\n",
       "      <td>1.000000</td>\n",
       "      <td>-0.068845</td>\n",
       "    </tr>\n",
       "    <tr>\n",
       "      <th>ccommentcnt</th>\n",
       "      <td>0.089395</td>\n",
       "      <td>-0.068845</td>\n",
       "      <td>1.000000</td>\n",
       "    </tr>\n",
       "  </tbody>\n",
       "</table>\n",
       "</div>"
      ],
      "text/plain": [
       "              cstarts    cprice  ccommentcnt\n",
       "cstarts      1.000000  0.049530     0.089395\n",
       "cprice       0.049530  1.000000    -0.068845\n",
       "ccommentcnt  0.089395 -0.068845     1.000000"
      ]
     },
     "execution_count": 214,
     "metadata": {},
     "output_type": "execute_result"
    }
   ],
   "source": [
    "corr"
   ]
  },
  {
   "cell_type": "code",
   "execution_count": null,
   "metadata": {},
   "outputs": [],
   "source": []
  }
 ],
 "metadata": {
  "kernelspec": {
   "display_name": "Python 3",
   "language": "python",
   "name": "python3"
  },
  "language_info": {
   "codemirror_mode": {
    "name": "ipython",
    "version": 3
   },
   "file_extension": ".py",
   "mimetype": "text/x-python",
   "name": "python",
   "nbconvert_exporter": "python",
   "pygments_lexer": "ipython3",
   "version": "3.6.4"
  }
 },
 "nbformat": 4,
 "nbformat_minor": 2
}
