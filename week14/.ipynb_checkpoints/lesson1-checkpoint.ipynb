{
 "cells": [
  {
   "cell_type": "markdown",
   "metadata": {},
   "source": [
    "# 魔法命令"
   ]
  },
  {
   "cell_type": "markdown",
   "metadata": {},
   "source": [
    "## %run"
   ]
  },
  {
   "cell_type": "code",
   "execution_count": 9,
   "metadata": {},
   "outputs": [
    {
     "name": "stdout",
     "output_type": "stream",
     "text": [
      "hello\n"
     ]
    }
   ],
   "source": [
    "%run ./hello.py"
   ]
  },
  {
   "cell_type": "markdown",
   "metadata": {},
   "source": [
    "## %load"
   ]
  },
  {
   "cell_type": "markdown",
   "metadata": {},
   "source": [
    "## %timeit 精确测量多次的均值"
   ]
  },
  {
   "cell_type": "code",
   "execution_count": 13,
   "metadata": {},
   "outputs": [
    {
     "name": "stdout",
     "output_type": "stream",
     "text": [
      "245 µs ± 7.45 µs per loop (mean ± std. dev. of 7 runs, 1000 loops each)\n"
     ]
    }
   ],
   "source": [
    "%timeit a = [i**2 for i in range(1000)]"
   ]
  },
  {
   "cell_type": "code",
   "execution_count": 15,
   "metadata": {},
   "outputs": [
    {
     "name": "stdout",
     "output_type": "stream",
     "text": [
      "278 µs ± 4.45 µs per loop (mean ± std. dev. of 7 runs, 1000 loops each)\n"
     ]
    }
   ],
   "source": [
    "%%timeit\n",
    "li =[]\n",
    "for i in range(1000):\n",
    "    li.append(i**2)"
   ]
  },
  {
   "cell_type": "markdown",
   "metadata": {},
   "source": [
    "## %time用户感知的时钟时间"
   ]
  },
  {
   "cell_type": "code",
   "execution_count": 17,
   "metadata": {},
   "outputs": [],
   "source": [
    "import random"
   ]
  },
  {
   "cell_type": "code",
   "execution_count": 19,
   "metadata": {},
   "outputs": [
    {
     "name": "stdout",
     "output_type": "stream",
     "text": [
      "Wall time: 2.51 ms\n"
     ]
    }
   ],
   "source": [
    "li = [random.random() for i in range(10000)]\n",
    "%time li.sort()"
   ]
  },
  {
   "cell_type": "code",
   "execution_count": 21,
   "metadata": {},
   "outputs": [
    {
     "name": "stdout",
     "output_type": "stream",
     "text": [
      " 驱动器 C 中的卷没有标签。\n",
      " 卷的序列号是 4CA5-2601\n",
      "\n",
      " C:\\Users\\Administrator\\Desktop\\week14 的目录\n",
      "\n",
      "2018-08-01  21:01    <DIR>          .\n",
      "2018-08-01  21:01    <DIR>          ..\n",
      "2018-08-01  19:51    <DIR>          .ipynb_checkpoints\n",
      "2018-07-27  20:29                 0 hello,py.bak\n",
      "2018-07-27  20:30                14 hello.py\n",
      "2018-08-01  21:01             2,372 lesson1.ipynb\n",
      "2018-07-29  11:45            11,307 ndarray.ipynb\n",
      "2018-07-27  20:59             1,805 numpytest.ipynb\n",
      "2018-07-29  10:21             9,152 test1.ipynb\n",
      "2018-07-29  09:45                 0 untitled\n",
      "2018-07-27  20:47             2,850 Untitled.ipynb\n",
      "2018-07-30  20:55             1,597 Untitled1.ipynb\n",
      "               9 个文件         29,097 字节\n",
      "               3 个目录 140,736,212,992 可用字节\n"
     ]
    }
   ],
   "source": [
    "!dir"
   ]
  },
  {
   "cell_type": "markdown",
   "metadata": {},
   "source": [
    "## %%writefile 写入文件"
   ]
  },
  {
   "cell_type": "code",
   "execution_count": 22,
   "metadata": {},
   "outputs": [
    {
     "name": "stdout",
     "output_type": "stream",
     "text": [
      "Writing ./test.py\n"
     ]
    }
   ],
   "source": [
    "%%writefile \"./test.py\"\n",
    "import random\n",
    "li = [random.random() for i in range(10000)]\n",
    "%time li.sort()"
   ]
  },
  {
   "cell_type": "markdown",
   "metadata": {},
   "source": [
    "## !dir !cat 等等系统命令"
   ]
  },
  {
   "cell_type": "code",
   "execution_count": 24,
   "metadata": {},
   "outputs": [
    {
     "name": "stdout",
     "output_type": "stream",
     "text": [
      " 驱动器 C 中的卷没有标签。\n",
      " 卷的序列号是 4CA5-2601\n",
      "\n",
      " C:\\Users\\Administrator\\Desktop\\week14 的目录\n",
      "\n",
      "2018-08-01  21:08    <DIR>          .\n",
      "2018-08-01  21:08    <DIR>          ..\n",
      "2018-08-01  21:07    <DIR>          .ipynb_checkpoints\n",
      "2018-08-01  21:08             4,786 lesson1.ipynb\n",
      "2018-08-01  21:07                72 lesson2.ipynb\n",
      "               2 个文件          4,858 字节\n",
      "               3 个目录 140,732,944,384 可用字节\n"
     ]
    }
   ],
   "source": [
    "!dir"
   ]
  },
  {
   "cell_type": "code",
   "execution_count": null,
   "metadata": {},
   "outputs": [],
   "source": []
  }
 ],
 "metadata": {
  "kernelspec": {
   "display_name": "Python 3",
   "language": "python",
   "name": "python3"
  },
  "language_info": {
   "codemirror_mode": {
    "name": "ipython",
    "version": 3
   },
   "file_extension": ".py",
   "mimetype": "text/x-python",
   "name": "python",
   "nbconvert_exporter": "python",
   "pygments_lexer": "ipython3",
   "version": "3.6.4"
  }
 },
 "nbformat": 4,
 "nbformat_minor": 2
}
