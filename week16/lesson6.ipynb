{
 "cells": [
  {
   "cell_type": "code",
   "execution_count": 1,
   "metadata": {},
   "outputs": [],
   "source": [
    "import numpy as np\n",
    "from ML.knn import kNN_classify\n",
    "from ML.metrics import accuracy_score\n",
    "from ML.model_selection import train_test_split\n",
    "import matplotlib.pyplot as plt\n",
    "from collections import Counter"
   ]
  },
  {
   "cell_type": "code",
   "execution_count": 8,
   "metadata": {},
   "outputs": [
    {
     "data": {
      "text/plain": [
       "array([1.4, 1.4, 1.3, 1.5, 1.4, 1.7, 1.4, 1.5, 1.4, 1.5, 1.5, 1.6, 1.4,\n",
       "       1.1, 1.2, 1.5, 1.3, 1.4, 1.7, 1.5, 1.7, 1.5, 1. , 1.7, 1.9, 1.6,\n",
       "       1.6, 1.5, 1.4, 1.6, 1.6, 1.5, 1.5, 1.4, 1.5, 1.2, 1.3, 1.5, 1.3,\n",
       "       1.5, 1.3, 1.3, 1.3, 1.6, 1.9, 1.4, 1.6, 1.4, 1.5, 1.4])"
      ]
     },
     "execution_count": 8,
     "metadata": {},
     "output_type": "execute_result"
    }
   ],
   "source": [
    "X = np.loadtxt('x.txt')\n",
    "X= X[:,2:]\n",
    "y = np.loadtxt('y.txt')\n",
    "X[y==0,0]"
   ]
  },
  {
   "cell_type": "code",
   "execution_count": 46,
   "metadata": {},
   "outputs": [
    {
     "data": {
      "text/plain": [
       "<matplotlib.collections.PathCollection at 0x2735faf92e8>"
      ]
     },
     "execution_count": 46,
     "metadata": {},
     "output_type": "execute_result"
    },
    {
     "data": {
      "image/png": "[encoded data removed]",
      "text/plain": [
       "<Figure size 432x288 with 1 Axes>"
      ]
     },
     "metadata": {},
     "output_type": "display_data"
    }
   ],
   "source": [
    "plt.scatter(X[y==0,0],X[y==0,1],color='r')\n",
    "plt.scatter(X[y==1,0],X[y==1,1],color='g')\n",
    "plt.scatter(X[y==2,0],X[y==2,1],color='b')"
   ]
  },
  {
   "cell_type": "code",
   "execution_count": 47,
   "metadata": {},
   "outputs": [],
   "source": [
    "def gini(y):\n",
    "    counter = Counter(y)\n",
    "    result = 0\n",
    "    for v in counter.values():\n",
    "        result += (v/len(y))**2\n",
    "    return 1-result\n",
    "def cut(X,y,d,v):\n",
    "    ind_left = (X[:,d] <= v)\n",
    "#     print(ind_left)\n",
    "    ind_right = (X[:,d] >= v)\n",
    "    return X[ind_left],X[ind_right],y[ind_left],y[ind_right]\n",
    "\n",
    "\n",
    "def try_split(X,y):\n",
    "    best_g = 1\n",
    "    best_d = -1\n",
    "    best_v = -1\n",
    "    for d in range(X.shape[1]):\n",
    "        sorted_index = np.argsort(X[:,d])\n",
    "#         print(sorted_index)\n",
    "        for i in range(len(X)-1):\n",
    "            if X[sorted_index[i],d] == X[sorted_index[i+1],d]:\n",
    "                continue\n",
    "            v = (X[sorted_index[i],d]+X[sorted_index[i+1],d])/2\n",
    "#             print(\"d={}, v={}\".format(d,v))\n",
    "            X_left,X_right,y_left,y_right = cut(X,y,d,v)\n",
    "            g_all = gini(y_left)+gini(y_right)\n",
    "            \n",
    "            if g_all < best_g:\n",
    "                best_g = g_all\n",
    "                best_d = d\n",
    "                best_v = v\n",
    "    return best_d,best_v ,best_g "
   ]
  },
  {
   "cell_type": "code",
   "execution_count": 48,
   "metadata": {},
   "outputs": [
    {
     "data": {
      "text/plain": [
       "(0, 2.45, 0.5)"
      ]
     },
     "execution_count": 48,
     "metadata": {},
     "output_type": "execute_result"
    }
   ],
   "source": [
    "try_split(X,y)"
   ]
  },
  {
   "cell_type": "code",
   "execution_count": 59,
   "metadata": {},
   "outputs": [],
   "source": [
    "class Node():\n",
    "    def __init__(self,d= None,v= None,g= None,l= None):\n",
    "        self.dim = d\n",
    "        self.value = v\n",
    "        self.gini =g\n",
    "        self.label =l\n",
    "        self.children_left = None\n",
    "        self.children_right = None\n",
    "    def __repr__(self):\n",
    "        return 'Node(d={},v={},g={},l={})'.format(self.dim,self.value,self.gini,self.label)"
   ]
  },
  {
   "cell_type": "code",
   "execution_count": 68,
   "metadata": {},
   "outputs": [],
   "source": [
    "def create_tree(X,y):\n",
    "    d,v,g = try_split(X,y)\n",
    "    if d ==-1 or g==0:\n",
    "        return None    \n",
    "    node = Node(d,v,g) #根节点\n",
    "    \n",
    "    X_left,X_right,y_left,y_right = cut(X,y,d,v)\n",
    "    \n",
    "    node.children_left = create_tree(X_left,y_left)    \n",
    "    if node.children_left is None:\n",
    "        label = Counter(y_left).most_common(1)[0][0]\n",
    "        node.children_left = Node(l=label)\n",
    "        \n",
    "    node.children_right = create_tree(X_right,y_right)          \n",
    "    if node.children_right is None:\n",
    "        label = Counter(y_right).most_common(1)[0][0]\n",
    "        node.children_right = Node(l=label)\n",
    "    \n",
    "    return node"
   ]
  },
  {
   "cell_type": "code",
   "execution_count": 69,
   "metadata": {},
   "outputs": [],
   "source": [
    "tree = create_tree(X,y)"
   ]
  },
  {
   "cell_type": "code",
   "execution_count": 70,
   "metadata": {},
   "outputs": [
    {
     "name": "stdout",
     "output_type": "stream",
     "text": [
      "Node(d=None,v=None,g=None,l=0.0)\n"
     ]
    }
   ],
   "source": [
    "print(tree.children_left)"
   ]
  },
  {
   "cell_type": "code",
   "execution_count": 81,
   "metadata": {},
   "outputs": [
    {
     "name": "stdout",
     "output_type": "stream",
     "text": [
      "Node(d=0,v=5.35,g=0.10872781065088755,l=None)\n"
     ]
    }
   ],
   "source": [
    "print(tree.children_right.children_left)"
   ]
  },
  {
   "cell_type": "code",
   "execution_count": 86,
   "metadata": {},
   "outputs": [],
   "source": [
    "def show_tree(node):\n",
    "    if node is None:\n",
    "        return ''\n",
    "    result = ''\n",
    "    if node.children_right is not None:\n",
    "        result += '\"{}\"->\"{}\"\\n'.format(id(node), id(node.children_right)\n",
    "        result += show_tree(node.children_right)\n",
    "    if node.children_left is not None:\n",
    "        result += '\"{}\"->\"{}\"\\n'.format(id(node), id(node.children_left)\n",
    "         result += show_tree(node.children_left)\n",
    "    return result"
   ]
  },
  {
   "cell_type": "code",
   "execution_count": 87,
   "metadata": {},
   "outputs": [
    {
     "name": "stdout",
     "output_type": "stream",
     "text": [
      "digraph{\n",
      "\n",
      "\"Node(d=0,v=2.45,g=0.5,l=None)\"->\"Node(d=1,v=1.75,g=0.21057149006459386,l=None)\"\n",
      "\"Node(d=0,v=2.45,g=0.5,l=None)\"->\"Node(d=None,v=None,g=None,l=0.0)\"\n",
      "\n",
      "}\n",
      "\n"
     ]
    }
   ],
   "source": [
    "print('digraph{\\n')\n",
    "print(show_tree(tree))\n",
    "print('}\\n')"
   ]
  },
  {
   "cell_type": "code",
   "execution_count": null,
   "metadata": {},
   "outputs": [],
   "source": []
  }
 ],
 "metadata": {
  "kernelspec": {
   "display_name": "Python 3",
   "language": "python",
   "name": "python3"
  },
  "language_info": {
   "codemirror_mode": {
    "name": "ipython",
    "version": 3
   },
   "file_extension": ".py",
   "mimetype": "text/x-python",
   "name": "python",
   "nbconvert_exporter": "python",
   "pygments_lexer": "ipython3",
   "version": "3.6.4"
  }
 },
 "nbformat": 4,
 "nbformat_minor": 2
}
