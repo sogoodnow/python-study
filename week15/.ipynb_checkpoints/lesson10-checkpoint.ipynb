{
 "cells": [
  {
   "cell_type": "code",
   "execution_count": 1,
   "metadata": {},
   "outputs": [],
   "source": [
    "import numpy as np\n",
    "import pandas as pd\n",
    "import matplotlib.pyplot as plt\n",
    "plt.rc('font',**{'family':'SimHei'})"
   ]
  },
  {
   "cell_type": "code",
   "execution_count": 7,
   "metadata": {},
   "outputs": [],
   "source": [
    "np.random.seed(1)\n",
    "data = np.random.normal(3000,1000,size=100)"
   ]
  },
  {
   "cell_type": "code",
   "execution_count": 9,
   "metadata": {},
   "outputs": [
    {
     "data": {
      "text/plain": [
       "array([4624.34536366, 2388.24358635, 2471.82824774, 1927.03137784,\n",
       "       3865.40762932, 4744.81176422, 2238.7930991 , 3319.03909606,\n",
       "       2750.62962452, 4462.10793704, 2677.58279599, 2615.94564533,\n",
       "       4133.76944234, 1900.10873269, 2827.57179245, 2122.14158208,\n",
       "       3042.21374672, 3582.81521372, 1899.38082279, 4144.72370984,\n",
       "       3901.59072059, 3502.4943389 , 3900.85594926, 2316.27214083,\n",
       "       2877.10977448, 2064.23056574, 2732.11192037, 3530.35546674,\n",
       "       2308.33924827, 2603.24647314, 2312.82729988, 2154.7943585 ,\n",
       "       2328.75386916, 2987.33540108, 1882.68965136, 3234.41569782,\n",
       "       4659.80217711, 3742.04416058, 2808.16444764, 2112.37103592,\n",
       "       2252.84170625, 4692.45460103, 3050.80775478, 2363.00435343,\n",
       "       3190.91548467, 5100.25513648, 3120.15895248, 3617.20310971,\n",
       "       3300.17031996, 2647.75015351, 1857.48180198, 2650.65727759,\n",
       "       2791.10576663, 3586.62319118, 3838.98341387, 3931.1020813 ,\n",
       "       3285.58732525, 3885.14116427, 2245.602059  , 4252.86815523,\n",
       "       3512.92982042, 2701.9071649 , 3488.51814654, 2924.42828698,\n",
       "       4131.62938745, 4519.81681642, 5185.57540653, 2495.53413705,\n",
       "       3160.03706945, 3876.16892112, 3315.63494724, 2693.79598737,\n",
       "       3827.97464261, 3230.09473536, 3762.01118031, 2777.67185739,\n",
       "       2799.24193107, 3186.56139099, 3410.05164721, 3198.29972013,\n",
       "       3119.00864581, 2329.33771371, 3377.56378632, 3121.82127099,\n",
       "       4129.48390791, 4198.9178799 , 3185.15641748, 2624.71504991,\n",
       "       2361.26959255, 3423.49435406, 3077.34006835, 2656.14632443,\n",
       "       3043.59685683, 2379.99915605, 3698.03203407])"
      ]
     },
     "execution_count": 9,
     "metadata": {},
     "output_type": "execute_result"
    }
   ],
   "source": [
    "data=data[data>1800]\n",
    "data"
   ]
  },
  {
   "cell_type": "code",
   "execution_count": 10,
   "metadata": {},
   "outputs": [
    {
     "data": {
      "text/plain": [
       "95"
      ]
     },
     "execution_count": 10,
     "metadata": {},
     "output_type": "execute_result"
    }
   ],
   "source": [
    "len(data)"
   ]
  },
  {
   "cell_type": "code",
   "execution_count": 11,
   "metadata": {},
   "outputs": [],
   "source": [
    "rang_val=np.max(data)-np.min(data)"
   ]
  },
  {
   "cell_type": "code",
   "execution_count": 12,
   "metadata": {},
   "outputs": [
    {
     "data": {
      "text/plain": [
       "3328.0936045553017"
      ]
     },
     "execution_count": 12,
     "metadata": {},
     "output_type": "execute_result"
    }
   ],
   "source": [
    "rang_val"
   ]
  },
  {
   "cell_type": "code",
   "execution_count": 14,
   "metadata": {},
   "outputs": [
    {
     "data": {
      "text/plain": [
       "9"
      ]
     },
     "execution_count": 14,
     "metadata": {},
     "output_type": "execute_result"
    }
   ],
   "source": [
    "import math\n",
    "bins= math.ceil(rang_val/400)\n",
    "bins"
   ]
  },
  {
   "cell_type": "code",
   "execution_count": 15,
   "metadata": {},
   "outputs": [
    {
     "data": {
      "text/plain": [
       "(array([ 9., 14., 18., 19., 11., 10.,  6.,  6.,  2.]),\n",
       " array([1857.48180198, 2227.26998026, 2597.05815855, 2966.84633683,\n",
       "        3336.63451511, 3706.4226934 , 4076.21087168, 4445.99904997,\n",
       "        4815.78722825, 5185.57540653]),\n",
       " <a list of 9 Patch objects>)"
      ]
     },
     "execution_count": 15,
     "metadata": {},
     "output_type": "execute_result"
    },
    {
     "data": {
      "image/png": "[encoded data removed]",
      "text/plain": [
       "<Figure size 432x288 with 1 Axes>"
      ]
     },
     "metadata": {},
     "output_type": "display_data"
    }
   ],
   "source": [
    "plt.hist(data,bins=bins,rwidth=0.8)"
   ]
  },
  {
   "cell_type": "code",
   "execution_count": 19,
   "metadata": {},
   "outputs": [
    {
     "data": {
      "image/png": "[encoded data removed]",
      "text/plain": [
       "<Figure size 432x288 with 1 Axes>"
      ]
     },
     "metadata": {},
     "output_type": "display_data"
    }
   ],
   "source": [
    "res = plt.hist(data,bins=bins,rwidth=0.8,range=(1800,400*bins+1800))"
   ]
  },
  {
   "cell_type": "code",
   "execution_count": null,
   "metadata": {},
   "outputs": [],
   "source": []
  },
  {
   "cell_type": "code",
   "execution_count": null,
   "metadata": {},
   "outputs": [],
   "source": []
  }
 ],
 "metadata": {
  "kernelspec": {
   "display_name": "Python 3",
   "language": "python",
   "name": "python3"
  },
  "language_info": {
   "codemirror_mode": {
    "name": "ipython",
    "version": 3
   },
   "file_extension": ".py",
   "mimetype": "text/x-python",
   "name": "python",
   "nbconvert_exporter": "python",
   "pygments_lexer": "ipython3",
   "version": "3.6.4"
  }
 },
 "nbformat": 4,
 "nbformat_minor": 2
}
